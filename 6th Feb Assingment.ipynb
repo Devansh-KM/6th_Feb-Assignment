{
 "cells": [
  {
   "cell_type": "markdown",
   "id": "cb4f66c1",
   "metadata": {},
   "source": [
    "#### Q1. Create a function which will take a list as an argument and return the product of all the numbers  after creating a flat list. Use the below-given list as an argument for your function.\n",
    "list1 = [1,2,3,4, [44,55,66, True], False, (34,56,78,89,34), {1,2,3,3,2,1}, {1:34, \"key2\": [55, 67, 78, 89], 4: (45,\n",
    "22, 61, 34)}, [56, 'data science'], 'Machine Learning']\n",
    "#### Note: you must extract numeric keys and values of the dictionary also."
   ]
  },
  {
   "cell_type": "code",
   "execution_count": 10,
   "id": "b5f82a2a",
   "metadata": {},
   "outputs": [],
   "source": [
    "list1 = [1,2,3,4, [44,55,66, True], False, (34,56,78,89,34), {1,2,3,3,2,1}, {1:34, \"key2\": [55, 67, 78, 89], 4: (45,\n",
    "22, 61, 34)}, [56, 'data science'], 'Machine Learning']"
   ]
  },
  {
   "cell_type": "code",
   "execution_count": 11,
   "id": "ec15e08f",
   "metadata": {},
   "outputs": [
    {
     "name": "stdout",
     "output_type": "stream",
     "text": [
      "4134711838987085478833841242112000\n"
     ]
    }
   ],
   "source": [
    "def product_of_list(lst):\n",
    "    \"\"\" Function to take numeric data from list and find its product\"\"\"\n",
    "    flatten_lst = []\n",
    "    def flat_lst(lst):\n",
    "        \"\"\" Function to take a list and make a list of numeric data\"\"\"\n",
    "        #creating an empty list to append numeric data\n",
    "        for item in lst:\n",
    "        #checking for tlist, set and tuple inside list 1\n",
    "            if type(item) == list or type(item) == set or type(item) == tuple:\n",
    "            #checking numeric data inside all above mentioned types\n",
    "                for j in item:\n",
    "                    if type(j) == int or type(j) == float:\n",
    "                    #Appendind numeric data into empty list from above mentioned data type\n",
    "                        flatten_lst.append(j)\n",
    "        # checking and appending numeric data from dictionary both key and value(values contain list and tuples)\n",
    "            elif type(item) == dict:\n",
    "                for key,value in item.items():\n",
    "                    if type(key) == int or type(key) == float:\n",
    "                        flatten_lst.append(key)\n",
    "                    if type(value) == list or type(value) == tuple:\n",
    "                        for v in value:\n",
    "                            if type(v) == int or type(v) == float:\n",
    "                                flatten_lst.append(v)\n",
    "                    elif type(value) == int or type(value) == float:\n",
    "                        flatten_lst.append(value)\n",
    "        # checking numeric data directly inside main list\n",
    "            elif type(item) == int or type(item) == float:\n",
    "                flatten_lst.append(item)\n",
    "    flat_lst(lst)\n",
    "    product = 1\n",
    "    for num in flatten_lst:\n",
    "        product *= num\n",
    "    return product\n",
    "print(product_of_list(list1))   "
   ]
  },
  {
   "cell_type": "markdown",
   "id": "bb66e16f",
   "metadata": {},
   "source": [
    "#### Q2. Write a python program for encrypting a message sent to you by your friend. The logic of encryption should be such that, for a the output should be z. For b, the output should be y. For c, the output should be x respectively. Also, the whitespace should be replaced with a dollar sign. Keep the punctuation marks unchanged.\n",
    "\n",
    "#### Input Sentence: I want to become a Data Scientist.\n",
    "#### Encrypt the above input sentence using the program you just created.\n",
    "\n",
    "#### Note: Convert the given input sentence into lowercase before encrypting. The final output should be lowercase."
   ]
  },
  {
   "cell_type": "code",
   "execution_count": 4,
   "id": "4f3dd59b",
   "metadata": {},
   "outputs": [],
   "source": [
    "# Creating a char and key list for all letters\n",
    "char = \"abcdefghijklmnopqrstuvwxyz\"\n",
    "key = char[::-1]\n",
    "char = [\" \"] + list(char)\n",
    "key = [\"$\"] + list(key)"
   ]
  },
  {
   "cell_type": "code",
   "execution_count": 12,
   "id": "71d4b56c",
   "metadata": {},
   "outputs": [
    {
     "name": "stdout",
     "output_type": "stream",
     "text": [
      "I want to become a Data Scientist\n",
      "Encrypted Message : r$dzmg$gl$yvxlnv$z$wzgz$hxrvmgrhg\n"
     ]
    }
   ],
   "source": [
    "def en_message(message):\n",
    "    encrypted_text = \"\"\n",
    "    for letter in message :\n",
    "        index = char.index(letter)\n",
    "        encrypted_text += key[index]\n",
    "    return encrypted_text\n",
    "\n",
    "# Checking the encryption  \n",
    "# taking user input and converting it to lower case\n",
    "message = input().lower()\n",
    "encrypted_text = en_message(message)\n",
    "print(\"Encrypted Message :\", encrypted_text)"
   ]
  },
  {
   "cell_type": "code",
   "execution_count": null,
   "id": "d979b2aa",
   "metadata": {},
   "outputs": [],
   "source": []
  }
 ],
 "metadata": {
  "kernelspec": {
   "display_name": "Python 3 (ipykernel)",
   "language": "python",
   "name": "python3"
  },
  "language_info": {
   "codemirror_mode": {
    "name": "ipython",
    "version": 3
   },
   "file_extension": ".py",
   "mimetype": "text/x-python",
   "name": "python",
   "nbconvert_exporter": "python",
   "pygments_lexer": "ipython3",
   "version": "3.9.13"
  }
 },
 "nbformat": 4,
 "nbformat_minor": 5
}
